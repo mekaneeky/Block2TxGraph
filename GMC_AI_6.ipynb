{
  "nbformat": 4,
  "nbformat_minor": 0,
  "metadata": {
    "colab": {
      "name": "GMC AI 6.ipynb",
      "provenance": [],
      "authorship_tag": "ABX9TyPuPj4OQOBLMxNpzhJBN5xY",
      "include_colab_link": true
    },
    "kernelspec": {
      "name": "python3",
      "display_name": "Python 3"
    }
  },
  "cells": [
    {
      "cell_type": "markdown",
      "metadata": {
        "id": "view-in-github",
        "colab_type": "text"
      },
      "source": [
        "<a href=\"https://colab.research.google.com/github/mekaneeky/Block2TxGraph/blob/master/GMC_AI_6.ipynb\" target=\"_parent\"><img src=\"https://colab.research.google.com/assets/colab-badge.svg\" alt=\"Open In Colab\"/></a>"
      ]
    },
    {
      "cell_type": "code",
      "metadata": {
        "id": "7cmV-Qc1iYQc"
      },
      "source": [
        "import math\n",
        "import operator\n",
        "import pandas as pd\n",
        "\n",
        "from sklearn.model_selection import train_test_split"
      ],
      "execution_count": 10,
      "outputs": []
    },
    {
      "cell_type": "code",
      "metadata": {
        "colab": {
          "base_uri": "https://localhost:8080/"
        },
        "id": "ZxNqN3EMe4vN",
        "outputId": "26650746-5762-4b59-f33b-24507cfe9caf"
      },
      "source": [
        "!gdown --id 1Om9LlkVhIPc9f4lbGpcHbHtNwqnuaIH3"
      ],
      "execution_count": 1,
      "outputs": [
        {
          "output_type": "stream",
          "text": [
            "Downloading...\n",
            "From: https://drive.google.com/uc?id=1Om9LlkVhIPc9f4lbGpcHbHtNwqnuaIH3\n",
            "To: /content/iris.data.txt\n",
            "\r  0% 0.00/4.70k [00:00<?, ?B/s]\r100% 4.70k/4.70k [00:00<00:00, 10.2MB/s]\n"
          ],
          "name": "stdout"
        }
      ]
    },
    {
      "cell_type": "code",
      "metadata": {
        "id": "_nBn4eLSfF9d"
      },
      "source": [
        "################\n",
        "#\n",
        "# Handling data\n",
        "#\n",
        "################\n",
        "\n",
        "iris_df = pd.read_csv(\"iris.data.txt\", names=[\"sepal length\", \"sepal width\", \"petal length\",\"petal width\",\n",
        "                                              \"species\"])\n"
      ],
      "execution_count": 6,
      "outputs": []
    },
    {
      "cell_type": "code",
      "metadata": {
        "colab": {
          "base_uri": "https://localhost:8080/",
          "height": 204
        },
        "id": "CXOa4vHli4Fc",
        "outputId": "ece01cbf-a0b5-4dde-d456-ddd02cb446ae"
      },
      "source": [
        "iris_df.head()"
      ],
      "execution_count": 7,
      "outputs": [
        {
          "output_type": "execute_result",
          "data": {
            "text/html": [
              "<div>\n",
              "<style scoped>\n",
              "    .dataframe tbody tr th:only-of-type {\n",
              "        vertical-align: middle;\n",
              "    }\n",
              "\n",
              "    .dataframe tbody tr th {\n",
              "        vertical-align: top;\n",
              "    }\n",
              "\n",
              "    .dataframe thead th {\n",
              "        text-align: right;\n",
              "    }\n",
              "</style>\n",
              "<table border=\"1\" class=\"dataframe\">\n",
              "  <thead>\n",
              "    <tr style=\"text-align: right;\">\n",
              "      <th></th>\n",
              "      <th>sepal length</th>\n",
              "      <th>sepal width</th>\n",
              "      <th>petal length</th>\n",
              "      <th>petal width</th>\n",
              "      <th>species</th>\n",
              "    </tr>\n",
              "  </thead>\n",
              "  <tbody>\n",
              "    <tr>\n",
              "      <th>0</th>\n",
              "      <td>5.1</td>\n",
              "      <td>3.5</td>\n",
              "      <td>1.4</td>\n",
              "      <td>0.2</td>\n",
              "      <td>Iris-setosa</td>\n",
              "    </tr>\n",
              "    <tr>\n",
              "      <th>1</th>\n",
              "      <td>4.9</td>\n",
              "      <td>3.0</td>\n",
              "      <td>1.4</td>\n",
              "      <td>0.2</td>\n",
              "      <td>Iris-setosa</td>\n",
              "    </tr>\n",
              "    <tr>\n",
              "      <th>2</th>\n",
              "      <td>4.7</td>\n",
              "      <td>3.2</td>\n",
              "      <td>1.3</td>\n",
              "      <td>0.2</td>\n",
              "      <td>Iris-setosa</td>\n",
              "    </tr>\n",
              "    <tr>\n",
              "      <th>3</th>\n",
              "      <td>4.6</td>\n",
              "      <td>3.1</td>\n",
              "      <td>1.5</td>\n",
              "      <td>0.2</td>\n",
              "      <td>Iris-setosa</td>\n",
              "    </tr>\n",
              "    <tr>\n",
              "      <th>4</th>\n",
              "      <td>5.0</td>\n",
              "      <td>3.6</td>\n",
              "      <td>1.4</td>\n",
              "      <td>0.2</td>\n",
              "      <td>Iris-setosa</td>\n",
              "    </tr>\n",
              "  </tbody>\n",
              "</table>\n",
              "</div>"
            ],
            "text/plain": [
              "   sepal length  sepal width  petal length  petal width      species\n",
              "0           5.1          3.5           1.4          0.2  Iris-setosa\n",
              "1           4.9          3.0           1.4          0.2  Iris-setosa\n",
              "2           4.7          3.2           1.3          0.2  Iris-setosa\n",
              "3           4.6          3.1           1.5          0.2  Iris-setosa\n",
              "4           5.0          3.6           1.4          0.2  Iris-setosa"
            ]
          },
          "metadata": {
            "tags": []
          },
          "execution_count": 7
        }
      ]
    },
    {
      "cell_type": "code",
      "metadata": {
        "id": "im8ZuiK-i8Wd"
      },
      "source": [
        "train_df, test_df = train_test_split(iris_df, test_size = 0.25, random_state = 42)"
      ],
      "execution_count": 9,
      "outputs": []
    },
    {
      "cell_type": "code",
      "metadata": {
        "colab": {
          "base_uri": "https://localhost:8080/"
        },
        "id": "03ox42tSnpb7",
        "outputId": "65ba1c8f-c519-4e59-d9e8-08daa8ba72ed"
      },
      "source": [
        "train_df.iloc[0][1]"
      ],
      "execution_count": 14,
      "outputs": [
        {
          "output_type": "execute_result",
          "data": {
            "text/plain": [
              "3.6"
            ]
          },
          "metadata": {
            "tags": []
          },
          "execution_count": 14
        }
      ]
    },
    {
      "cell_type": "code",
      "metadata": {
        "id": "N7P5YyF1joyX"
      },
      "source": [
        "\n",
        "def euclideanDistance(instance1, instance2, length):\n",
        "\n",
        "    distance_squared = 0\n",
        "    for idx in range(length):\n",
        "        distance_squared += math.pow( instance2[idx] - instance1[idx], 2)\n",
        "        \n",
        "    return math.sqrt( distance_squared )\n",
        "\n",
        "\n",
        "## No need to use Euclidean distance, since minkowski is a general case\n",
        "    # for p=1/2 minkowski distance = euclidean distance\n",
        "def minkowskiDistance(instance1,instance2, length, p=1/2):\n",
        "\n",
        "    distance_squared = 0\n",
        "    for idx in range(length):\n",
        "        distance_squared += math.pow( abs(instance2[idx] - instance1[idx]), 1/p)\n",
        "        \n",
        "    return math.pow( distance_squared, p )\n"
      ],
      "execution_count": 60,
      "outputs": []
    },
    {
      "cell_type": "code",
      "metadata": {
        "colab": {
          "base_uri": "https://localhost:8080/"
        },
        "id": "b7kba8NyxFo2",
        "outputId": "f8a41c90-6495-4d1d-9601-9bcb43a9a48e"
      },
      "source": [
        "trainInstance = [[2, 2, 2, 'a'], [4, 4, 4, 'b']]\n",
        "testInstance = [5, 5, 5]\n",
        "\n",
        "\n",
        "min_d = minkowskiDistance([2, 2, 2, 'a'], [5, 5, 5], len(testInstance)-1, 1/2)\n",
        "euc_d = euclideanDistance([2, 2, 2, 'a'], [5, 5, 5], len(testInstance)-1)\n",
        "# Are both distances equal for p=1/2?\n",
        "print(min_d == euc_d)"
      ],
      "execution_count": 28,
      "outputs": [
        {
          "output_type": "stream",
          "text": [
            "True\n"
          ],
          "name": "stdout"
        }
      ]
    },
    {
      "cell_type": "code",
      "metadata": {
        "id": "kcK39RP1xexX"
      },
      "source": [
        ""
      ],
      "execution_count": null,
      "outputs": []
    },
    {
      "cell_type": "code",
      "metadata": {
        "id": "rMEfCGpZmoLU"
      },
      "source": [
        "\n",
        "def getNeighbors(trainingSet, testInstance, k, p = 1/2):\n",
        "\n",
        "    distances = []\n",
        "\n",
        "    length = len(testInstance)-1\n",
        "\n",
        "    for x in range(len(trainingSet)):\n",
        "\n",
        "        dist = minkowskiDistance(testInstance, trainingSet[x], length, p)\n",
        "\n",
        "        distances.append((trainingSet[x], dist))\n",
        "\n",
        "        distances.sort(key=operator.itemgetter(1))\n",
        "\n",
        "        neighbors = []\n",
        "\n",
        "    for x in range(k):\n",
        "\n",
        "        neighbors.append(distances[x][0])\n",
        "\n",
        "    return neighbors\n",
        "\n",
        "\n",
        "\n"
      ],
      "execution_count": 54,
      "outputs": []
    },
    {
      "cell_type": "code",
      "metadata": {
        "colab": {
          "base_uri": "https://localhost:8080/"
        },
        "id": "ua5F5Q7SmrjJ",
        "outputId": "688ab970-b4b5-4525-9e59-62a1b0e67e64"
      },
      "source": [
        "trainSet = [[2, 2, 2, 'a'], [4, 4, 4, 'b']]\n",
        "testInstance = [5, 5, 5]\n",
        "k = 1\n",
        "neighbors = getNeighbors(trainSet, testInstance, 1)\n",
        "print(neighbors)\n"
      ],
      "execution_count": 17,
      "outputs": [
        {
          "output_type": "stream",
          "text": [
            "[[4, 4, 4, 'b']]\n"
          ],
          "name": "stdout"
        }
      ]
    },
    {
      "cell_type": "code",
      "metadata": {
        "id": "atj8oOR3qle7"
      },
      "source": [
        "def getResponse(neighbors):\n",
        "\n",
        "    classVotes = {}\n",
        "    for x in range(len(neighbors)):\n",
        "        response = neighbors[x][-1] #complete with appropriate number\n",
        "\n",
        "        if response in classVotes:\n",
        "            classVotes[response] += 1\n",
        "        else:\n",
        "            classVotes[response] = 1\n",
        "    \n",
        "\n",
        "    sortedVotes = sorted(classVotes.items(), key=operator.itemgetter(1), reverse=True)\n",
        "    # This is inaccurate in case of ties\n",
        "    return sortedVotes[0][0]\n",
        "\n",
        "\n"
      ],
      "execution_count": 19,
      "outputs": []
    },
    {
      "cell_type": "code",
      "metadata": {
        "colab": {
          "base_uri": "https://localhost:8080/"
        },
        "id": "uqhZ64WUrD1z",
        "outputId": "0f9e755d-b056-4cb5-dd46-a4797d7fafd3"
      },
      "source": [
        "neighbors = [[1,1,1,'a'], [2,2,2,'a'], [3,3,3,'b']]\n",
        "\n",
        "response = getResponse(neighbors)\n",
        "\n",
        "print(response)"
      ],
      "execution_count": 20,
      "outputs": [
        {
          "output_type": "stream",
          "text": [
            "a\n"
          ],
          "name": "stdout"
        }
      ]
    },
    {
      "cell_type": "code",
      "metadata": {
        "id": "WLJ32W9TsXdv"
      },
      "source": [
        "def getAccuracy(testSet, predictions):\n",
        "\n",
        "    assert len(testSet) == len(predictions)\n",
        "\n",
        "    correct = 0\n",
        "    for idx in range(len(testSet)):\n",
        "        if testSet[idx][-1] == predictions[idx]:\n",
        "            correct += 1\n",
        "\n",
        "\n",
        "    return (correct/float(len(testSet))) * 100.0"
      ],
      "execution_count": 23,
      "outputs": []
    },
    {
      "cell_type": "code",
      "metadata": {
        "colab": {
          "base_uri": "https://localhost:8080/"
        },
        "id": "avTwEUP9tcUS",
        "outputId": "fba4a74a-5d49-4656-d7ae-de8cfa24bdaf"
      },
      "source": [
        "testSet = [[1,1,1,'a'], [2,2,2,'a'], [3,3,3,'b']]\n",
        "\n",
        "predictions = ['a', 'a', 'a']\n",
        "\n",
        "accuracy = getAccuracy(testSet, predictions)\n",
        "\n",
        "print(accuracy)\n",
        "\n"
      ],
      "execution_count": 24,
      "outputs": [
        {
          "output_type": "stream",
          "text": [
            "66.66666666666666\n"
          ],
          "name": "stdout"
        }
      ]
    },
    {
      "cell_type": "code",
      "metadata": {
        "colab": {
          "base_uri": "https://localhost:8080/"
        },
        "id": "y-FEh_Pu2AuM",
        "outputId": "39792e5c-e032-46c4-c348-05c36c3b3551"
      },
      "source": [
        ""
      ],
      "execution_count": 32,
      "outputs": [
        {
          "output_type": "execute_result",
          "data": {
            "text/plain": [
              "-1.0"
            ]
          },
          "metadata": {
            "tags": []
          },
          "execution_count": 32
        }
      ]
    },
    {
      "cell_type": "code",
      "metadata": {
        "id": "mr579K1Gtea_"
      },
      "source": [
        "def main_knn_scorer(train_df, test_df,p = 4):\n",
        "\n",
        "    predictions = []\n",
        "    test_df_resultless = test_df.drop(columns=\"species\")\n",
        "    for idx in range(len(test_df)):\n",
        "        instance_neighbours = getNeighbors(train_df.values.tolist(), test_df_resultless.iloc[idx], k=4, p=4)\n",
        "        prediction = getResponse(instance_neighbours)\n",
        "        predictions.append(prediction)\n",
        "\n",
        "   \n",
        "    return getAccuracy(test_df.values.tolist(),predictions )"
      ],
      "execution_count": 48,
      "outputs": []
    },
    {
      "cell_type": "code",
      "metadata": {
        "colab": {
          "base_uri": "https://localhost:8080/"
        },
        "id": "hd6cD4MO0yWN",
        "outputId": "6259c74a-c0a2-447e-ff42-4679404a2246"
      },
      "source": [
        "accuracy_euclidean = main_knn_scorer(train_df, test_df, p=1/2)\n",
        "accuracy_manhattan = main_knn_scorer(train_df, test_df, p=1)\n",
        "accurracy_minkowski = main_knn_scorer(train_df, test_df, p=6)\n",
        "\n",
        "print(\"Accuracy using Euclidean distance: \" + str(accuracy_euclidean))\n",
        "print(\"Accuracy using Manhattan distance: \" + str(accuracy_manhattan))\n",
        "print(\"Accuracy using Minkowski distance: \" + str(accurracy_minkowski))"
      ],
      "execution_count": 61,
      "outputs": [
        {
          "output_type": "stream",
          "text": [
            "Accuracy using Euclidean distance: 92.10526315789474\n",
            "Accuracy using Manhattan distance: 92.10526315789474\n",
            "Accuracy using Minkowski distance: 92.10526315789474\n"
          ],
          "name": "stdout"
        }
      ]
    },
    {
      "cell_type": "code",
      "metadata": {
        "id": "vtkoNzo900CX"
      },
      "source": [
        ""
      ],
      "execution_count": null,
      "outputs": []
    }
  ]
}