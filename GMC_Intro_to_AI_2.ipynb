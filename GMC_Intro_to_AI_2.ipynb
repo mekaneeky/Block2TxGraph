{
  "nbformat": 4,
  "nbformat_minor": 0,
  "metadata": {
    "colab": {
      "name": "GMC Intro to AI 2.ipynb",
      "provenance": [],
      "authorship_tag": "ABX9TyM8GH2wU+IrqD9DhSTxJXop",
      "include_colab_link": true
    },
    "kernelspec": {
      "name": "python3",
      "display_name": "Python 3"
    }
  },
  "cells": [
    {
      "cell_type": "markdown",
      "metadata": {
        "id": "view-in-github",
        "colab_type": "text"
      },
      "source": [
        "<a href=\"https://colab.research.google.com/github/mekaneeky/Block2TxGraph/blob/master/GMC_Intro_to_AI_2.ipynb\" target=\"_parent\"><img src=\"https://colab.research.google.com/assets/colab-badge.svg\" alt=\"Open In Colab\"/></a>"
      ]
    },
    {
      "cell_type": "code",
      "metadata": {
        "id": "tO5rUj-R6eQw"
      },
      "source": [
        "###\n",
        "#\n",
        "# Question 1: Numbers divisible by 7 and 5 from 2000, 3200 inclusive\n",
        "#\n",
        "###\n",
        "\n",
        "def _check_divisibility(number):\n",
        "    try:\n",
        "        # If not divisible by 5 return False\n",
        "        if number%5 != 0:\n",
        "            return False\n",
        "\n",
        "        # If not divisible by 7 return False        \n",
        "        if number%7 != 0:\n",
        "            return False\n",
        "\n",
        "        return True \n",
        "\n",
        "    # If the datatype is not correct or some freak error happens assume False\n",
        "    except:\n",
        "        return False\n",
        "\n",
        "def check_numbers(starting_number = 2000, end_number=3200):\n",
        "    numbers_to_check = [i for i in range(starting_number,end_number + 1 )]\n",
        "    numbers_that_work = list(filter(_check_divisibility, numbers_to_check))\n",
        "    return numbers_that_work\n",
        "\n",
        "test = check_numbers()\n",
        "\n",
        "print(test)"
      ],
      "execution_count": null,
      "outputs": []
    },
    {
      "cell_type": "code",
      "metadata": {
        "colab": {
          "base_uri": "https://localhost:8080/"
        },
        "id": "-3T4B5PE7tML",
        "outputId": "245b7319-1ea7-471f-ea39-9162e168ebcf"
      },
      "source": [
        "###\n",
        "#\n",
        "# Question 2: Factorial method\n",
        "#\n",
        "###\n",
        "\n",
        "def factorial(n=5):\n",
        "  \n",
        "    if type(n) != int:\n",
        "        raise ValueError(\"Please use an appropriate +ve integer\")\n",
        "\n",
        "    if n <= 0:\n",
        "        return 1\n",
        "    if n == 1:\n",
        "        return n\n",
        "    \n",
        "    return n * factorial(n-1)\n",
        "        \n",
        "result = factorial()\n",
        "print(result)"
      ],
      "execution_count": null,
      "outputs": [
        {
          "output_type": "stream",
          "text": [
            "120\n"
          ],
          "name": "stdout"
        }
      ]
    },
    {
      "cell_type": "code",
      "metadata": {
        "colab": {
          "base_uri": "https://localhost:8080/"
        },
        "id": "sBcDcfSf7v9P",
        "outputId": "38c38a3f-c4e4-4ec3-a432-ec90bc2edf3d"
      },
      "source": [
        "###\n",
        "#\n",
        "# Question 3: {i:i*i} dict\n",
        "#\n",
        "###\n",
        " \n",
        "\n",
        "def dict_method(n=8):\n",
        "  \n",
        "    if type(n) != int:\n",
        "        raise ValueError(\"Please use an appropriate +ve integer\")\n",
        "    \n",
        "    return {i:i*i for i in range(1,n+1)}\n",
        "        \n",
        "result = dict_method()\n",
        "print(result)"
      ],
      "execution_count": null,
      "outputs": [
        {
          "output_type": "stream",
          "text": [
            "{1: 1, 2: 4, 3: 9, 4: 16, 5: 25, 6: 36, 7: 49, 8: 64}\n"
          ],
          "name": "stdout"
        }
      ]
    },
    {
      "cell_type": "code",
      "metadata": {
        "colab": {
          "base_uri": "https://localhost:8080/"
        },
        "id": "GWJIQRbg8u-Z",
        "outputId": "c82a7ea8-c8d9-42ce-b0d0-3db37d41f0f6"
      },
      "source": [
        "###\n",
        "#\n",
        "# Question 4: string trimming \n",
        "#\n",
        "###\n",
        " \n",
        "\n",
        "def string_trimmer(string_to_trim = \"kitten\", idx_to_trim = 2):\n",
        "  \n",
        "    if type(string_to_trim) != str:\n",
        "        raise ValueError(\"Please use an appropriate string\")\n",
        "\n",
        "    if type(idx_to_trim) != int or idx_to_trim > len(string_to_trim)-1:\n",
        "        raise ValueError(\"Please use an appropriate from range 0 to len(string_to_trim)-1\")\n",
        "    \n",
        "    if idx_to_trim == 0:\n",
        "        return string_to_trim[1:]\n",
        "    \n",
        "    elif idx_to_trim == len(string_to_trim)-1:\n",
        "        return string_to_trim[:len(string_to_trim)-2]\n",
        "    \n",
        "    else:\n",
        "        return string_to_trim[:idx_to_trim] + string_to_trim[idx_to_trim+1:]\n",
        "\n",
        "        \n",
        "result = string_trimmer()\n",
        "print(result)"
      ],
      "execution_count": null,
      "outputs": [
        {
          "output_type": "stream",
          "text": [
            "kiten\n"
          ],
          "name": "stdout"
        }
      ]
    },
    {
      "cell_type": "code",
      "metadata": {
        "colab": {
          "base_uri": "https://localhost:8080/"
        },
        "id": "53n0SYEfACVD",
        "outputId": "60035744-fd11-4623-d571-9d7516f44861"
      },
      "source": [
        "###\n",
        "#\n",
        "# Question 5: numpy array to list\n",
        "#\n",
        "###\n",
        "\n",
        "import numpy as np\n",
        " \n",
        "_example_array =  np.asarray([[1,3,4],[5,3,4],[9,3,4]])\n",
        "def array_2_list(arr_to_convert = _example_array):\n",
        "  \n",
        "    if type(arr_to_convert) != np.ndarray:\n",
        "        raise ValueError(\"Please use a numpy array to convert\")\n",
        "    \n",
        "    return arr_to_convert.tolist()\n",
        "        \n",
        "result = array_2_list()\n",
        "print(result)"
      ],
      "execution_count": null,
      "outputs": [
        {
          "output_type": "stream",
          "text": [
            "[[1, 3, 4], [5, 3, 4], [9, 3, 4]]\n"
          ],
          "name": "stdout"
        }
      ]
    },
    {
      "cell_type": "code",
      "metadata": {
        "colab": {
          "base_uri": "https://localhost:8080/"
        },
        "id": "KaqZ4RG-Bg5S",
        "outputId": "f2a03a3c-f914-4abf-c0b7-ce75d3a29e29"
      },
      "source": [
        "###\n",
        "#\n",
        "# Question 6: Numpy Array Covariance Calculator\n",
        "#\n",
        "###\n",
        "\n",
        "import numpy as np\n",
        " \n",
        "_example_array_1 = np.asarray([[0,1,2]])\n",
        "_example_array_2 = np.asarray([[2,1,0]])\n",
        "\n",
        "def covariance_calculator(arr_1 = _example_array_1, arr_2 = _example_array_2):\n",
        "  \n",
        "    if type(arr_1) != np.ndarray or type(arr_2) != np.ndarray:\n",
        "        raise ValueError(\"Please use a numpy array to convert\")\n",
        "    \n",
        "    return np.cov(arr_1, arr_2)\n",
        "        \n",
        "result = covariance_calculator()\n",
        "print(result)"
      ],
      "execution_count": null,
      "outputs": [
        {
          "output_type": "stream",
          "text": [
            "[[ 1. -1.]\n",
            " [-1.  1.]]\n"
          ],
          "name": "stdout"
        }
      ]
    },
    {
      "cell_type": "code",
      "metadata": {
        "colab": {
          "base_uri": "https://localhost:8080/"
        },
        "id": "iTwhNaifCwSs",
        "outputId": "4ee099f6-3c1a-41b7-d830-425f804467b4"
      },
      "source": [
        "###\n",
        "#\n",
        "# Question 7: Formula Calculator \n",
        "#  Formula is: Q = sqrt(  (2 * C * D) / H  )\n",
        "#\n",
        "###\n",
        "\n",
        "import numpy as np\n",
        "from math import sqrt\n",
        "\n",
        "from functools import partial\n",
        "\n",
        "\n",
        "\n",
        "def _calculate_Q( C, H, D):\n",
        "    Q = sqrt( (2 * C * D) / H ) \n",
        "    return int(round(Q))\n",
        "\n",
        "def formula_calculator(C = 50, H = 30, d_string = None):\n",
        "      \n",
        "    if d_string is None:\n",
        "        d_string = input(\"Please Enter the D comma seperated values\")\n",
        "\n",
        "    try:\n",
        "        d_values = d_string.split(\",\")\n",
        "        d_values = list(map(int, d_values))\n",
        "    except:\n",
        "        raise ValueError(\"Please Enter an Appropriate String of Integer Comma Seperated Values\")\n",
        "    \n",
        "    if len(d_values) == 0:\n",
        "        raise ValueError(\"Please Enter an Appropriate String of Integer Comma Seperated Values\")\n",
        "\n",
        "    return list(map(partial(_calculate_Q, C, H) , d_values))\n",
        "\n",
        "result = formula_calculator(d_string=\"100,150,180\")\n",
        "print(result)"
      ],
      "execution_count": null,
      "outputs": [
        {
          "output_type": "stream",
          "text": [
            "[18, 22, 24]\n"
          ],
          "name": "stdout"
        }
      ]
    }
  ]
}